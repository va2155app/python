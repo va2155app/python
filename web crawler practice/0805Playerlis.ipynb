{
 "cells": [
  {
   "cell_type": "code",
   "execution_count": 52,
   "metadata": {},
   "outputs": [
    {
     "name": "stdout",
     "output_type": "stream",
     "text": [
      "{'Patrick Beverley': 'Guard  ', 'Amir Coffey': 'Guard-Forward  ', 'Paul George': 'Forward  ', 'JaMychal Green': 'Forward-Center  ', 'Montrezl Harrell': 'Forward-Center  ', 'Reggie Jackson': 'Guard  ', 'Mfiondu Kabengele': 'Forward-Center  ', 'Kawhi Leonard': 'Forward  ', 'Terance Mann': 'Guard-Forward  ', 'Rodney McGruder': 'Guard  ', 'Marcus Morris Sr.': 'Forward  ', 'Johnathan Motley': 'Forward  ', 'Joakim Noah': 'Forward-Center  ', 'Patrick Patterson': 'Forward  ', 'Landry Shamet': 'Guard  ', 'Lou Williams': 'Guard  ', 'Ivica Zubac': 'Center  '}\n"
     ]
    }
   ],
   "source": [
    "#抓取網頁原始碼(HTML)\n",
    "import urllib.request as req\n",
    "import bs4 \n",
    "\n",
    "def find_nba_area(area=\"LA Clippers\"):\n",
    "    url=\"https://tw.global.nba.com/playerindex/\"\n",
    "    #建立一個Request物件，附加，request headers讓操作看起來為人為\n",
    "    reques=req.Request(url,headers={\n",
    "                \"User-Agent\":\"Mozilla/5.0 (Windows NT 6.1; Win64; x64) AppleWebKit/537.36 (KHTML, like Gecko) Chrome/84.0.4147.105 Safari/537.36\"})\n",
    "    with req.urlopen(url) as response:\n",
    "        data=response.read().decode(\"utf-8\")\n",
    "    #解析原始碼\n",
    "    root =bs4.BeautifulSoup(data,\"lxml\")\n",
    "\n",
    "    find_area=root.find(\"a\",string = area)[\"href\"]   \n",
    "    return find_area\n",
    "\n",
    "def find_teamlist(area=\"LA Clippers\"):\n",
    "    find_area=find_nba_area(area)\n",
    "    #建立一個Request物件，附加，request headers讓操作看起來為人為\n",
    "    reques=req.Request(find_area,headers={\n",
    "                \"User-Agent\":\"Mozilla/5.0 (Windows NT 6.1; Win64; x64) AppleWebKit/537.36 (KHTML, like Gecko) Chrome/84.0.4147.105 Safari/537.36\"})\n",
    "    \n",
    "    with req.urlopen(find_area) as response:\n",
    "        data=response.read().decode(\"utf-8\")\n",
    "        #解析原始碼\n",
    "    root =bs4.BeautifulSoup(data,\"lxml\")\n",
    "    find_teamlist = root.find(\"a\",string=\"Team\")[\"href\"]\n",
    "    \n",
    "    return \"https://www.nba.com\"+find_teamlist\n",
    "def find_member(area=\"LA Clippers\"):\n",
    "    find_member=find_teamlist(area)\n",
    "    #建立一個Request物件，附加，request headers讓操作看起來為人為\n",
    "    reques=req.Request(find_member,headers={\n",
    "                \"User-Agent\":\"Mozilla/5.0 (Windows NT 6.1; Win64; x64) AppleWebKit/537.36 (KHTML, like Gecko) Chrome/84.0.4147.105 Safari/537.36\"})\n",
    "    \n",
    "    with req.urlopen(find_member) as response:\n",
    "        data=response.read().decode(\"utf-8\")\n",
    "        #解析原始碼\n",
    "    root =bs4.BeautifulSoup(data,\"lxml\")\n",
    "    find_member = root.find_all(\"h2\",class_=\"roster__player__header__heading\")\n",
    "    memberlist=[]\n",
    "    for member in find_member:\n",
    "        memberlist.append(member.string)\n",
    "    find_position = root.find_all(\"div\",class_=\"roster__player__header_position\")\n",
    "    positionlist=[]\n",
    "    for position in find_position:\n",
    "        positionlist.append(position.string)\n",
    "    team_position=dict(zip(memberlist,positionlist))\n",
    "    return team_position\n",
    "print(find_member())"
   ]
  },
  {
   "cell_type": "code",
   "execution_count": 64,
   "metadata": {},
   "outputs": [
    {
     "data": {
      "text/plain": [
       "{'OG Anunoby': 'Forward  ',\n",
       " 'Chris Boucher': 'Forward-Center  ',\n",
       " 'Oshae Brissett': 'Forward-Guard  ',\n",
       " 'Terence Davis': 'Guard  ',\n",
       " 'Marc Gasol': 'Center  ',\n",
       " 'Dewan Hernandez': 'Center-Forward  ',\n",
       " 'Rondae Hollis-Jefferson': 'Forward  ',\n",
       " 'Serge Ibaka': 'Forward  ',\n",
       " 'Stanley Johnson': 'Forward-Guard  ',\n",
       " 'Kyle Lowry': 'Guard  ',\n",
       " 'Patrick McCaw': 'Guard  ',\n",
       " 'Malcolm Miller': 'Guard-Forward  ',\n",
       " 'Norman Powell': 'Guard  ',\n",
       " 'Pascal Siakam': 'Forward  ',\n",
       " 'Matt Thomas': 'Guard  ',\n",
       " 'Fred VanVleet': 'Guard  ',\n",
       " 'Paul Watson': 'Guard  '}"
      ]
     },
     "execution_count": 64,
     "metadata": {},
     "output_type": "execute_result"
    }
   ],
   "source": [
    "#print(find_nba_area(\"Toronto\"))\n",
    "#print(find_teamlist(\"Toronto\"))\n",
    "find_member(\"Toronto\")\n"
   ]
  }
 ],
 "metadata": {
  "kernelspec": {
   "display_name": "Python 3",
   "language": "python",
   "name": "python3"
  },
  "language_info": {
   "codemirror_mode": {
    "name": "ipython",
    "version": 3
   },
   "file_extension": ".py",
   "mimetype": "text/x-python",
   "name": "python",
   "nbconvert_exporter": "python",
   "pygments_lexer": "ipython3",
   "version": "3.8.3"
  }
 },
 "nbformat": 4,
 "nbformat_minor": 4
}
