{
 "cells": [
  {
   "cell_type": "code",
   "execution_count": 1,
   "metadata": {},
   "outputs": [],
   "source": [
    "from IPython.display import display, clear_output\n",
    "from urllib.request import urlopen\n",
    "import pandas as pd\n",
    "import datetime\n",
    "import requests\n",
    "import sched\n",
    "import time\n",
    "import json\n",
    "import urllib.request as req\n",
    "import bs4 \n",
    "\n",
    "\n",
    "s = sched.scheduler(time.time, time.sleep)"
   ]
  },
  {
   "cell_type": "code",
   "execution_count": 2,
   "metadata": {},
   "outputs": [],
   "source": [
    "def tableColor(val):\n",
    "    if val > 0:\n",
    "        color = 'red'\n",
    "    elif val < 0:\n",
    "        color = 'green'\n",
    "    else:\n",
    "        color = 'white'\n",
    "    return 'color: %s' % color"
   ]
  },
  {
   "cell_type": "code",
   "execution_count": 17,
   "metadata": {},
   "outputs": [],
   "source": [
    "def stock_crawler(targets):\n",
    "    \n",
    "    clear_output(wait=True)\n",
    "    \n",
    "    # 組成stock_list\n",
    "    stock_list = '|'.join('tse_{}.tw'.format(target) for target in targets)\n",
    "    \n",
    "    #　query data\n",
    "    query_url = \"https://mis.twse.com.tw/stock/api/getStockInfo.jsp?ex_ch=\"+stock_list+\"&json=1&delay=0&_=1600053720361\"\n",
    "   \n",
    "    reques=req.Request(query_url,headers={\n",
    "    \"User-Agent\":\"Mozilla/5.0 (Windows NT 6.1; Win64; x64) AppleWebKit/537.36 (KHTML, like Gecko) Chrome/84.0.4147.105 Safari/537.36\"\n",
    "})\n",
    "    data = json.loads(urlopen(query_url).read())\n",
    "   \n",
    "\n",
    "    # 過濾出有用到的欄位\n",
    "    columns = ['c','n','z','tv','v','o','h','l','y']\n",
    "    df = pd.DataFrame(data['msgArray'], columns=columns)\n",
    "    df.columns = ['股票代號','公司簡稱','當盤成交價','當盤成交量','累積成交量','開盤價','最高價','最低價','昨收價']\n",
    "    df.insert(9, \"漲跌百分比\", 0.0) \n",
    "    \n",
    "    # 新增漲跌百分比\n",
    "  \n",
    "    \n",
    "    for x in range(len(df.index)):\n",
    "        if df['當盤成交價'].iloc[x] != '-':\n",
    "            df.iloc[x, [2,3,4,5,6,7,8]] = df.iloc[x, [2,3,4,5,6,7,8]].astype(float)\n",
    "            df.iloc[x,9] = (df['當盤成交價'].iloc[x] - df['昨收價'].iloc[x])/df['昨收價'].iloc[x] * 100\n",
    "    # 紀錄更新時間\n",
    "    time = datetime.datetime.now()  \n",
    "    \n",
    "    # show table\n",
    "    df = df.style.applymap(tableColor, subset=['漲跌百分比'])\n",
    "    print(\"更新時間:\" + str(time.hour)+\":\"+str(time.minute))\n",
    "    display(df)\n",
    "    \n",
    "    start_time = datetime.datetime.strptime(str(time.date())+'9:30', '%Y-%m-%d%H:%M')\n",
    "    end_time =  datetime.datetime.strptime(str(time.date())+'13:30', '%Y-%m-%d%H:%M')\n",
    "    # 判斷爬蟲終止條件\n",
    "    if time >= start_time and time <= end_time:\n",
    "        s.enter(5, 0, stock_crawler, argument=(targets,))\n",
    "        s.run()"
   ]
  },
  {
   "cell_type": "code",
   "execution_count": 16,
   "metadata": {},
   "outputs": [
    {
     "name": "stdout",
     "output_type": "stream",
     "text": [
      "更新時間:16:24\n"
     ]
    },
    {
     "data": {
      "text/html": [
       "<style  type=\"text/css\" >\n",
       "    #T_f9255113_f7f5_11ea_8026_e4aaea5814c8row0_col9 {\n",
       "            color:  red;\n",
       "        }    #T_f9255113_f7f5_11ea_8026_e4aaea5814c8row1_col9 {\n",
       "            color:  red;\n",
       "        }    #T_f9255113_f7f5_11ea_8026_e4aaea5814c8row2_col9 {\n",
       "            color:  white;\n",
       "        }</style><table id=\"T_f9255113_f7f5_11ea_8026_e4aaea5814c8\" ><thead>    <tr>        <th class=\"blank level0\" ></th>        <th class=\"col_heading level0 col0\" >股票代號</th>        <th class=\"col_heading level0 col1\" >公司簡稱</th>        <th class=\"col_heading level0 col2\" >當盤成交價</th>        <th class=\"col_heading level0 col3\" >當盤成交量</th>        <th class=\"col_heading level0 col4\" >累積成交量</th>        <th class=\"col_heading level0 col5\" >開盤價</th>        <th class=\"col_heading level0 col6\" >最高價</th>        <th class=\"col_heading level0 col7\" >最低價</th>        <th class=\"col_heading level0 col8\" >昨收價</th>        <th class=\"col_heading level0 col9\" >漲跌百分比</th>    </tr></thead><tbody>\n",
       "                <tr>\n",
       "                        <th id=\"T_f9255113_f7f5_11ea_8026_e4aaea5814c8level0_row0\" class=\"row_heading level0 row0\" >0</th>\n",
       "                        <td id=\"T_f9255113_f7f5_11ea_8026_e4aaea5814c8row0_col0\" class=\"data row0 col0\" >1101</td>\n",
       "                        <td id=\"T_f9255113_f7f5_11ea_8026_e4aaea5814c8row0_col1\" class=\"data row0 col1\" >台泥</td>\n",
       "                        <td id=\"T_f9255113_f7f5_11ea_8026_e4aaea5814c8row0_col2\" class=\"data row0 col2\" >42.850000</td>\n",
       "                        <td id=\"T_f9255113_f7f5_11ea_8026_e4aaea5814c8row0_col3\" class=\"data row0 col3\" >1199.000000</td>\n",
       "                        <td id=\"T_f9255113_f7f5_11ea_8026_e4aaea5814c8row0_col4\" class=\"data row0 col4\" >14720.000000</td>\n",
       "                        <td id=\"T_f9255113_f7f5_11ea_8026_e4aaea5814c8row0_col5\" class=\"data row0 col5\" >42.650000</td>\n",
       "                        <td id=\"T_f9255113_f7f5_11ea_8026_e4aaea5814c8row0_col6\" class=\"data row0 col6\" >42.900000</td>\n",
       "                        <td id=\"T_f9255113_f7f5_11ea_8026_e4aaea5814c8row0_col7\" class=\"data row0 col7\" >42.600000</td>\n",
       "                        <td id=\"T_f9255113_f7f5_11ea_8026_e4aaea5814c8row0_col8\" class=\"data row0 col8\" >42.700000</td>\n",
       "                        <td id=\"T_f9255113_f7f5_11ea_8026_e4aaea5814c8row0_col9\" class=\"data row0 col9\" >0.351288</td>\n",
       "            </tr>\n",
       "            <tr>\n",
       "                        <th id=\"T_f9255113_f7f5_11ea_8026_e4aaea5814c8level0_row1\" class=\"row_heading level0 row1\" >1</th>\n",
       "                        <td id=\"T_f9255113_f7f5_11ea_8026_e4aaea5814c8row1_col0\" class=\"data row1 col0\" >1102</td>\n",
       "                        <td id=\"T_f9255113_f7f5_11ea_8026_e4aaea5814c8row1_col1\" class=\"data row1 col1\" >亞泥</td>\n",
       "                        <td id=\"T_f9255113_f7f5_11ea_8026_e4aaea5814c8row1_col2\" class=\"data row1 col2\" >42.800000</td>\n",
       "                        <td id=\"T_f9255113_f7f5_11ea_8026_e4aaea5814c8row1_col3\" class=\"data row1 col3\" >621.000000</td>\n",
       "                        <td id=\"T_f9255113_f7f5_11ea_8026_e4aaea5814c8row1_col4\" class=\"data row1 col4\" >4291.000000</td>\n",
       "                        <td id=\"T_f9255113_f7f5_11ea_8026_e4aaea5814c8row1_col5\" class=\"data row1 col5\" >42.800000</td>\n",
       "                        <td id=\"T_f9255113_f7f5_11ea_8026_e4aaea5814c8row1_col6\" class=\"data row1 col6\" >42.800000</td>\n",
       "                        <td id=\"T_f9255113_f7f5_11ea_8026_e4aaea5814c8row1_col7\" class=\"data row1 col7\" >42.550000</td>\n",
       "                        <td id=\"T_f9255113_f7f5_11ea_8026_e4aaea5814c8row1_col8\" class=\"data row1 col8\" >42.700000</td>\n",
       "                        <td id=\"T_f9255113_f7f5_11ea_8026_e4aaea5814c8row1_col9\" class=\"data row1 col9\" >0.234192</td>\n",
       "            </tr>\n",
       "            <tr>\n",
       "                        <th id=\"T_f9255113_f7f5_11ea_8026_e4aaea5814c8level0_row2\" class=\"row_heading level0 row2\" >2</th>\n",
       "                        <td id=\"T_f9255113_f7f5_11ea_8026_e4aaea5814c8row2_col0\" class=\"data row2 col0\" >1103</td>\n",
       "                        <td id=\"T_f9255113_f7f5_11ea_8026_e4aaea5814c8row2_col1\" class=\"data row2 col1\" >嘉泥</td>\n",
       "                        <td id=\"T_f9255113_f7f5_11ea_8026_e4aaea5814c8row2_col2\" class=\"data row2 col2\" >16.600000</td>\n",
       "                        <td id=\"T_f9255113_f7f5_11ea_8026_e4aaea5814c8row2_col3\" class=\"data row2 col3\" >7.000000</td>\n",
       "                        <td id=\"T_f9255113_f7f5_11ea_8026_e4aaea5814c8row2_col4\" class=\"data row2 col4\" >345.000000</td>\n",
       "                        <td id=\"T_f9255113_f7f5_11ea_8026_e4aaea5814c8row2_col5\" class=\"data row2 col5\" >16.600000</td>\n",
       "                        <td id=\"T_f9255113_f7f5_11ea_8026_e4aaea5814c8row2_col6\" class=\"data row2 col6\" >16.600000</td>\n",
       "                        <td id=\"T_f9255113_f7f5_11ea_8026_e4aaea5814c8row2_col7\" class=\"data row2 col7\" >16.500000</td>\n",
       "                        <td id=\"T_f9255113_f7f5_11ea_8026_e4aaea5814c8row2_col8\" class=\"data row2 col8\" >16.600000</td>\n",
       "                        <td id=\"T_f9255113_f7f5_11ea_8026_e4aaea5814c8row2_col9\" class=\"data row2 col9\" >0.000000</td>\n",
       "            </tr>\n",
       "    </tbody></table>"
      ],
      "text/plain": [
       "<pandas.io.formats.style.Styler at 0x24de79bbaf0>"
      ]
     },
     "metadata": {},
     "output_type": "display_data"
    }
   ],
   "source": [
    "stock_crawler(['1101','1102','1103'])"
   ]
  },
  {
   "cell_type": "code",
   "execution_count": 14,
   "metadata": {},
   "outputs": [
    {
     "name": "stdout",
     "output_type": "stream",
     "text": [
      "更新時間:16:19\n"
     ]
    },
    {
     "data": {
      "text/html": [
       "<style  type=\"text/css\" >\n",
       "    #T_497f29d6_f7f5_11ea_b40f_e4aaea5814c8row0_col9 {\n",
       "            color:  red;\n",
       "        }    #T_497f29d6_f7f5_11ea_b40f_e4aaea5814c8row1_col9 {\n",
       "            color:  red;\n",
       "        }    #T_497f29d6_f7f5_11ea_b40f_e4aaea5814c8row2_col9 {\n",
       "            color:  white;\n",
       "        }</style><table id=\"T_497f29d6_f7f5_11ea_b40f_e4aaea5814c8\" ><thead>    <tr>        <th class=\"blank level0\" ></th>        <th class=\"col_heading level0 col0\" >股票代號</th>        <th class=\"col_heading level0 col1\" >公司簡稱</th>        <th class=\"col_heading level0 col2\" >當盤成交價</th>        <th class=\"col_heading level0 col3\" >當盤成交量</th>        <th class=\"col_heading level0 col4\" >累積成交量</th>        <th class=\"col_heading level0 col5\" >開盤價</th>        <th class=\"col_heading level0 col6\" >最高價</th>        <th class=\"col_heading level0 col7\" >最低價</th>        <th class=\"col_heading level0 col8\" >昨收價</th>        <th class=\"col_heading level0 col9\" >漲跌百分比</th>    </tr></thead><tbody>\n",
       "                <tr>\n",
       "                        <th id=\"T_497f29d6_f7f5_11ea_b40f_e4aaea5814c8level0_row0\" class=\"row_heading level0 row0\" >0</th>\n",
       "                        <td id=\"T_497f29d6_f7f5_11ea_b40f_e4aaea5814c8row0_col0\" class=\"data row0 col0\" >1101</td>\n",
       "                        <td id=\"T_497f29d6_f7f5_11ea_b40f_e4aaea5814c8row0_col1\" class=\"data row0 col1\" >台泥</td>\n",
       "                        <td id=\"T_497f29d6_f7f5_11ea_b40f_e4aaea5814c8row0_col2\" class=\"data row0 col2\" >42.850000</td>\n",
       "                        <td id=\"T_497f29d6_f7f5_11ea_b40f_e4aaea5814c8row0_col3\" class=\"data row0 col3\" >1199.000000</td>\n",
       "                        <td id=\"T_497f29d6_f7f5_11ea_b40f_e4aaea5814c8row0_col4\" class=\"data row0 col4\" >14720.000000</td>\n",
       "                        <td id=\"T_497f29d6_f7f5_11ea_b40f_e4aaea5814c8row0_col5\" class=\"data row0 col5\" >42.650000</td>\n",
       "                        <td id=\"T_497f29d6_f7f5_11ea_b40f_e4aaea5814c8row0_col6\" class=\"data row0 col6\" >42.900000</td>\n",
       "                        <td id=\"T_497f29d6_f7f5_11ea_b40f_e4aaea5814c8row0_col7\" class=\"data row0 col7\" >42.600000</td>\n",
       "                        <td id=\"T_497f29d6_f7f5_11ea_b40f_e4aaea5814c8row0_col8\" class=\"data row0 col8\" >42.700000</td>\n",
       "                        <td id=\"T_497f29d6_f7f5_11ea_b40f_e4aaea5814c8row0_col9\" class=\"data row0 col9\" >0.351288</td>\n",
       "            </tr>\n",
       "            <tr>\n",
       "                        <th id=\"T_497f29d6_f7f5_11ea_b40f_e4aaea5814c8level0_row1\" class=\"row_heading level0 row1\" >1</th>\n",
       "                        <td id=\"T_497f29d6_f7f5_11ea_b40f_e4aaea5814c8row1_col0\" class=\"data row1 col0\" >1102</td>\n",
       "                        <td id=\"T_497f29d6_f7f5_11ea_b40f_e4aaea5814c8row1_col1\" class=\"data row1 col1\" >亞泥</td>\n",
       "                        <td id=\"T_497f29d6_f7f5_11ea_b40f_e4aaea5814c8row1_col2\" class=\"data row1 col2\" >42.800000</td>\n",
       "                        <td id=\"T_497f29d6_f7f5_11ea_b40f_e4aaea5814c8row1_col3\" class=\"data row1 col3\" >621.000000</td>\n",
       "                        <td id=\"T_497f29d6_f7f5_11ea_b40f_e4aaea5814c8row1_col4\" class=\"data row1 col4\" >4291.000000</td>\n",
       "                        <td id=\"T_497f29d6_f7f5_11ea_b40f_e4aaea5814c8row1_col5\" class=\"data row1 col5\" >42.800000</td>\n",
       "                        <td id=\"T_497f29d6_f7f5_11ea_b40f_e4aaea5814c8row1_col6\" class=\"data row1 col6\" >42.800000</td>\n",
       "                        <td id=\"T_497f29d6_f7f5_11ea_b40f_e4aaea5814c8row1_col7\" class=\"data row1 col7\" >42.550000</td>\n",
       "                        <td id=\"T_497f29d6_f7f5_11ea_b40f_e4aaea5814c8row1_col8\" class=\"data row1 col8\" >42.700000</td>\n",
       "                        <td id=\"T_497f29d6_f7f5_11ea_b40f_e4aaea5814c8row1_col9\" class=\"data row1 col9\" >0.234192</td>\n",
       "            </tr>\n",
       "            <tr>\n",
       "                        <th id=\"T_497f29d6_f7f5_11ea_b40f_e4aaea5814c8level0_row2\" class=\"row_heading level0 row2\" >2</th>\n",
       "                        <td id=\"T_497f29d6_f7f5_11ea_b40f_e4aaea5814c8row2_col0\" class=\"data row2 col0\" >1103</td>\n",
       "                        <td id=\"T_497f29d6_f7f5_11ea_b40f_e4aaea5814c8row2_col1\" class=\"data row2 col1\" >嘉泥</td>\n",
       "                        <td id=\"T_497f29d6_f7f5_11ea_b40f_e4aaea5814c8row2_col2\" class=\"data row2 col2\" >16.600000</td>\n",
       "                        <td id=\"T_497f29d6_f7f5_11ea_b40f_e4aaea5814c8row2_col3\" class=\"data row2 col3\" >7.000000</td>\n",
       "                        <td id=\"T_497f29d6_f7f5_11ea_b40f_e4aaea5814c8row2_col4\" class=\"data row2 col4\" >345.000000</td>\n",
       "                        <td id=\"T_497f29d6_f7f5_11ea_b40f_e4aaea5814c8row2_col5\" class=\"data row2 col5\" >16.600000</td>\n",
       "                        <td id=\"T_497f29d6_f7f5_11ea_b40f_e4aaea5814c8row2_col6\" class=\"data row2 col6\" >16.600000</td>\n",
       "                        <td id=\"T_497f29d6_f7f5_11ea_b40f_e4aaea5814c8row2_col7\" class=\"data row2 col7\" >16.500000</td>\n",
       "                        <td id=\"T_497f29d6_f7f5_11ea_b40f_e4aaea5814c8row2_col8\" class=\"data row2 col8\" >16.600000</td>\n",
       "                        <td id=\"T_497f29d6_f7f5_11ea_b40f_e4aaea5814c8row2_col9\" class=\"data row2 col9\" >0.000000</td>\n",
       "            </tr>\n",
       "    </tbody></table>"
      ],
      "text/plain": [
       "<pandas.io.formats.style.Styler at 0x24de78969d0>"
      ]
     },
     "metadata": {},
     "output_type": "display_data"
    }
   ],
   "source": [
    "# 欲爬取的股票代碼\n",
    "stock_list = ['1101','1102','1103']\n",
    "\n",
    "# 每秒定時器\n",
    "s.enter(2, 0, stock_crawler, argument=(stock_list,))\n",
    "s.run()"
   ]
  },
  {
   "cell_type": "code",
   "execution_count": null,
   "metadata": {},
   "outputs": [],
   "source": [
    "if time >= start_time and time <= end_time:\n",
    "        s.enter(1, 0, stock_crawler, argument=(targets,))"
   ]
  },
  {
   "cell_type": "code",
   "execution_count": null,
   "metadata": {},
   "outputs": [],
   "source": [
    " with req.urlopen(query_url) as response:\n",
    "        data=response.read().decode(\"utf-8\")\n",
    "\n",
    "    root =bs4.BeautifulSoup(data,\"html5\")\n",
    "    find_data = root.get_text(\"body\")\n",
    "    json_data = json.loads(find_data"
   ]
  },
  {
   "cell_type": "code",
   "execution_count": null,
   "metadata": {},
   "outputs": [],
   "source": []
  }
 ],
 "metadata": {
  "kernelspec": {
   "display_name": "Python 3",
   "language": "python",
   "name": "python3"
  },
  "language_info": {
   "codemirror_mode": {
    "name": "ipython",
    "version": 3
   },
   "file_extension": ".py",
   "mimetype": "text/x-python",
   "name": "python",
   "nbconvert_exporter": "python",
   "pygments_lexer": "ipython3",
   "version": "3.8.3"
  }
 },
 "nbformat": 4,
 "nbformat_minor": 4
}
