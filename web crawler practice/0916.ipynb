{
 "cells": [
  {
   "cell_type": "code",
   "execution_count": 1,
   "metadata": {},
   "outputs": [],
   "source": [
    "from IPython.display import display, clear_output\n",
    "from urllib.request import urlopen\n",
    "import pandas as pd\n",
    "import datetime\n",
    "import requests\n",
    "import sched\n",
    "import time\n",
    "import json\n",
    "import urllib.request as req\n",
    "import bs4 \n",
    "\n",
    "\n",
    "s = sched.scheduler(time.time, time.sleep)"
   ]
  },
  {
   "cell_type": "code",
   "execution_count": 2,
   "metadata": {},
   "outputs": [],
   "source": [
    "def tableColor(val):\n",
    "    if val > 0:\n",
    "        color = 'red'\n",
    "    elif val < 0:\n",
    "        color = 'green'\n",
    "    else:\n",
    "        color = 'white'\n",
    "    return 'color: %s' % color"
   ]
  },
  {
   "cell_type": "code",
   "execution_count": 8,
   "metadata": {},
   "outputs": [],
   "source": [
    "def stock_crawler(targets):\n",
    "    \n",
    "    clear_output(wait=True)\n",
    "    \n",
    "    # 組成stock_list\n",
    "    stock_list = '|'.join('otc_{}.tw'.format(target) for target in targets)\n",
    "    \n",
    "    #　query data\n",
    "    query_url = \" https://mis.twse.com.tw/stock/api/getStockInfo.jsp?ex_ch=\"+stock_list+\"&json=1&delay=0&_=1600313327541\"\n",
    "   \n",
    "    reques=req.Request(query_url,headers={\n",
    "    \"User-Agent\":\"Mozilla/5.0 (Windows NT 6.1; Win64; x64) AppleWebKit/537.36 (KHTML, like Gecko) Chrome/84.0.4147.105 Safari/537.36\"\n",
    "})\n",
    "    data = json.loads(urlopen(query_url).read())\n",
    "   \n",
    "\n",
    "    # 過濾出有用到的欄位\n",
    "    columns = ['c','n','z','tv','v','o','h','l','y']\n",
    "    df = pd.DataFrame(data['msgArray'], columns=columns)\n",
    "    df.columns = ['股票代號','公司簡稱','當盤成交價','當盤成交量','累積成交量','開盤價','最高價','最低價','昨收價']\n",
    "    df.insert(9, \"漲跌百分比\", 0.0) \n",
    "    \n",
    "    # 新增漲跌百分比\n",
    "  \n",
    "    \n",
    "    for x in range(len(df.index)):\n",
    "        if df['當盤成交價'].iloc[x] != '-':\n",
    "            df.iloc[x, [2,3,4,5,6,7,8]] = df.iloc[x, [2,3,4,5,6,7,8]].astype(float)\n",
    "            df.iloc[x,9] = (df['當盤成交價'].iloc[x] - df['昨收價'].iloc[x])/df['昨收價'].iloc[x] * 100\n",
    "    # 紀錄更新時間\n",
    "    time = datetime.datetime.now()  \n",
    "    \n",
    "    # show table\n",
    "    df = df.style.applymap(tableColor, subset=['漲跌百分比'])\n",
    "    print(\"更新時間:\" + str(time.hour)+\":\"+str(time.minute))\n",
    "    display(df)\n",
    "    \n",
    "    start_time = datetime.datetime.strptime(str(time.date())+'9:30', '%Y-%m-%d%H:%M')\n",
    "    end_time =  datetime.datetime.strptime(str(time.date())+'13:30', '%Y-%m-%d%H:%M')\n",
    "    # 判斷爬蟲終止條件\n",
    "    if time >= start_time and time <= end_time:\n",
    "        s.enter(5, 0, stock_crawler, argument=(targets,))\n",
    "        s.run()"
   ]
  },
  {
   "cell_type": "code",
   "execution_count": null,
   "metadata": {},
   "outputs": [
    {
     "name": "stdout",
     "output_type": "stream",
     "text": [
      "更新時間:11:30\n"
     ]
    },
    {
     "data": {
      "text/html": [
       "<style  type=\"text/css\" >\n",
       "</style><table id=\"T_341d3d73_f896_11ea_a9f4_e4aaea5814c8\" ><thead>    <tr>        <th class=\"blank level0\" ></th>        <th class=\"col_heading level0 col0\" >股票代號</th>        <th class=\"col_heading level0 col1\" >公司簡稱</th>        <th class=\"col_heading level0 col2\" >當盤成交價</th>        <th class=\"col_heading level0 col3\" >當盤成交量</th>        <th class=\"col_heading level0 col4\" >累積成交量</th>        <th class=\"col_heading level0 col5\" >開盤價</th>        <th class=\"col_heading level0 col6\" >最高價</th>        <th class=\"col_heading level0 col7\" >最低價</th>        <th class=\"col_heading level0 col8\" >昨收價</th>        <th class=\"col_heading level0 col9\" >漲跌百分比</th>    </tr></thead><tbody>\n",
       "        </tbody></table>"
      ],
      "text/plain": [
       "<pandas.io.formats.style.Styler at 0x22939769070>"
      ]
     },
     "metadata": {},
     "output_type": "display_data"
    }
   ],
   "source": [
    "stock_crawler(\"6203\")"
   ]
  },
  {
   "cell_type": "code",
   "execution_count": null,
   "metadata": {},
   "outputs": [],
   "source": [
    "# 欲爬取的股票代碼\n",
    "stock_list = ['1101','1102','1103']\n",
    "\n",
    "# 每秒定時器\n",
    "s.enter(2, 0, stock_crawler, argument=(stock_list,))\n",
    "s.run()"
   ]
  },
  {
   "cell_type": "code",
   "execution_count": null,
   "metadata": {},
   "outputs": [],
   "source": []
  }
 ],
 "metadata": {
  "kernelspec": {
   "display_name": "Python 3",
   "language": "python",
   "name": "python3"
  },
  "language_info": {
   "codemirror_mode": {
    "name": "ipython",
    "version": 3
   },
   "file_extension": ".py",
   "mimetype": "text/x-python",
   "name": "python",
   "nbconvert_exporter": "python",
   "pygments_lexer": "ipython3",
   "version": "3.8.3"
  }
 },
 "nbformat": 4,
 "nbformat_minor": 4
}
