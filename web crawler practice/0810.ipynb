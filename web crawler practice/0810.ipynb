{
 "cells": [
  {
   "cell_type": "code",
   "execution_count": 14,
   "metadata": {},
   "outputs": [],
   "source": [
    "import urllib.request as req\n",
    "import bs4    as bs\n",
    "import pandas as pd\n",
    "from selenium import webdriver\n",
    "from selenium.webdriver.chrome.options import Options\n",
    "import time\n",
    "\n",
    "#開啟chrome 並到NBA官網 並搜尋指定球員\n",
    "def source(Name=\"\"): \n",
    "    options = Options()\n",
    "    options.add_argument(\"--disable-notifications\")\n",
    "\n",
    "    chrome = webdriver.Chrome('./chromedriver')\n",
    "    chrome.get(\"https://www.nba.com/players\")\n",
    "    time.sleep(2)\n",
    "\n",
    "        #接受cookies\n",
    "    to_accept_cookies = chrome.find_element_by_id(\"onetrust-accept-btn-handler\")\n",
    "    to_accept_cookies.click()\n",
    "\n",
    "    find_player = chrome.find_element_by_class_name(\"playerdetail__search\")\n",
    "    find_player = find_player.send_keys(\"lebron\")\n",
    "    time.sleep(2)\n",
    "    root =bs.BeautifulSoup(chrome.page_source,\"lxml\")\n",
    "    goto_playerpage = root.find(\"a\",title =\" \"+Name+\" \")[\"href\"]\n",
    "    return \"https://www.nba.com\"+goto_playerpage\n",
    "\n",
    "\n",
    "\n",
    "def find_player(Name=\"\"):\n",
    "    with req.urlopen(source(Name)) as response:\n",
    "                     data=response.read().decode(\"utf-8\")\n",
    "\n",
    "    root   = bs.BeautifulSoup(data,\"lxml\")\n",
    "    find_playerdata = root.find_all(\"p\",{\"class\":\"nba-player-vitals__top-info-metric\"})\n",
    "    arr=[]\n",
    "    #抓取球員 身高體重\n",
    "    for playerdata in find_playerdata:\n",
    "        playerdata=playerdata.text.replace(\"/ \\n              \", \"\")\n",
    "        arr.append(playerdata)\n",
    "\n",
    "            #存取球員檔案至指定位置\n",
    "    playdata = pd.DataFrame({\n",
    "            \"PlayName\":[Name],\n",
    "            \"Height\":[arr[0]],\n",
    "            \"Weight\":[arr[1]]\n",
    "        })\n",
    "    return playdata\n",
    "\n"
   ]
  },
  {
   "cell_type": "code",
   "execution_count": 16,
   "metadata": {},
   "outputs": [
    {
     "data": {
      "text/html": [
       "<div>\n",
       "<style scoped>\n",
       "    .dataframe tbody tr th:only-of-type {\n",
       "        vertical-align: middle;\n",
       "    }\n",
       "\n",
       "    .dataframe tbody tr th {\n",
       "        vertical-align: top;\n",
       "    }\n",
       "\n",
       "    .dataframe thead th {\n",
       "        text-align: right;\n",
       "    }\n",
       "</style>\n",
       "<table border=\"1\" class=\"dataframe\">\n",
       "  <thead>\n",
       "    <tr style=\"text-align: right;\">\n",
       "      <th></th>\n",
       "      <th>PlayName</th>\n",
       "      <th>Height</th>\n",
       "      <th>Weight</th>\n",
       "    </tr>\n",
       "  </thead>\n",
       "  <tbody>\n",
       "    <tr>\n",
       "      <th>0</th>\n",
       "      <td>LeBron James</td>\n",
       "      <td>2.06m</td>\n",
       "      <td>113.4kg</td>\n",
       "    </tr>\n",
       "  </tbody>\n",
       "</table>\n",
       "</div>"
      ],
      "text/plain": [
       "       PlayName Height   Weight\n",
       "0  LeBron James  2.06m  113.4kg"
      ]
     },
     "execution_count": 16,
     "metadata": {},
     "output_type": "execute_result"
    }
   ],
   "source": [
    "find_player(\"LeBron James\")"
   ]
  }
 ],
 "metadata": {
  "kernelspec": {
   "display_name": "Python 3",
   "language": "python",
   "name": "python3"
  },
  "language_info": {
   "codemirror_mode": {
    "name": "ipython",
    "version": 3
   },
   "file_extension": ".py",
   "mimetype": "text/x-python",
   "name": "python",
   "nbconvert_exporter": "python",
   "pygments_lexer": "ipython3",
   "version": "3.8.3"
  }
 },
 "nbformat": 4,
 "nbformat_minor": 4
}
