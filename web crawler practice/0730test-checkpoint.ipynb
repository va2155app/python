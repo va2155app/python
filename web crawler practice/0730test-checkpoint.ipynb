{
 "cells": [
  {
   "cell_type": "code",
   "execution_count": 1,
   "metadata": {},
   "outputs": [
    {
     "name": "stdout",
     "output_type": "stream",
     "text": [
      "11\n",
      "-1\n",
      "30\n",
      "0.8333333333333334\n"
     ]
    }
   ],
   "source": [
    "class Calculator:\n",
    "    def __init__(self,a,b):\n",
    "        self._a = a\n",
    "        self._b = b\n",
    "    def add(self):\n",
    "        return self._a+self._b\n",
    "    def sub(self):\n",
    "        return self._a-self._b\n",
    "    def mul(self):\n",
    "        return self._a*self._b\n",
    "    def div(self):\n",
    "        return self._a/self._b\n",
    "calc=Calculator(5,6)\n",
    "print(calc.add())\n",
    "print(calc.sub())\n",
    "print(calc.mul())\n",
    "print(calc.div())\n",
    "    "
   ]
  },
  {
   "cell_type": "code",
   "execution_count": 2,
   "metadata": {},
   "outputs": [
    {
     "name": "stdout",
     "output_type": "stream",
     "text": [
      "900\n",
      "22\n"
     ]
    }
   ],
   "source": [
    "class Aggregator:\n",
    "    def product(self,*args):\n",
    "        x=1\n",
    "        for n in args:\n",
    "            x*=n\n",
    "        return x\n",
    "    def sum(self,*args):\n",
    "        return sum(args)\n",
    "agg=Aggregator()\n",
    "print(agg.product(5,5,6,6))\n",
    "print(agg.sum(5,5,6,6))\n",
    "            "
   ]
  },
  {
   "cell_type": "code",
   "execution_count": null,
   "metadata": {},
   "outputs": [
    {
     "name": "stdout",
     "output_type": "stream",
     "text": [
      "11\n",
      "-1\n",
      "30\n",
      "0.8333333333333334\n",
      "15625\n",
      "5\n",
      "0\n"
     ]
    }
   ],
   "source": [
    "class NewCalculator(Calculator):\n",
    "    def __init__(self,a,b):\n",
    "        super().__init__(a,b)\n",
    "    def power(self):\n",
    "        return self._a**self._b\n",
    "    def get_modulo(self):\n",
    "        return self._a%self._b\n",
    "    def get_quotient(self):\n",
    "        return self._a//self._b\n",
    "newcal=NewCalculator(5,6)\n",
    "print(newcal.add())\n",
    "print(newcal.sub())\n",
    "print(newcal.mul())\n",
    "print(newcal.div())\n",
    "print(newcal.power())\n",
    "print(newcal.get_modulo())\n",
    "print(newcal.get_quotient())"
   ]
  },
  {
   "cell_type": "code",
   "execution_count": 6,
   "metadata": {},
   "outputs": [
    {
     "name": "stdout",
     "output_type": "stream",
     "text": [
      "900\n",
      "22\n",
      "4\n",
      "5.5\n"
     ]
    }
   ],
   "source": [
    "class NewAggregator(Aggregator):\n",
    "    def length(self,*args):\n",
    "        return len(args)\n",
    "    def mean(self,*args):\n",
    "        return sum(args)/len(args)\n",
    "newagg = NewAggregator()\n",
    "print(newagg.product(5,5,6,6))\n",
    "print(newagg.sum(5,5,6,6))\n",
    "print(newagg.length(5,5,6,6))\n",
    "print(newagg.mean(5,5,6,6))\n"
   ]
  },
  {
   "cell_type": "code",
   "execution_count": null,
   "metadata": {},
   "outputs": [],
   "source": []
  },
  {
   "cell_type": "code",
   "execution_count": null,
   "metadata": {},
   "outputs": [],
   "source": []
  }
 ],
 "metadata": {
  "kernelspec": {
   "display_name": "Python 3",
   "language": "python",
   "name": "python3"
  },
  "language_info": {
   "codemirror_mode": {
    "name": "ipython",
    "version": 3
   },
   "file_extension": ".py",
   "mimetype": "text/x-python",
   "name": "python",
   "nbconvert_exporter": "python",
   "pygments_lexer": "ipython3",
   "version": "3.8.3"
  }
 },
 "nbformat": 4,
 "nbformat_minor": 4
}
