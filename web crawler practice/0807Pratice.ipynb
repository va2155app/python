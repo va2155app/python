{
 "cells": [
  {
   "cell_type": "code",
   "execution_count": 17,
   "metadata": {},
   "outputs": [],
   "source": [
    "import urllib.request as req\n",
    "import bs4 \n",
    "import pandas as pd\n",
    "\n",
    "PlaylistUrl=\"https://www.nba.com/players\"\n",
    "    #建立一個Request物件，附加，request headers讓操作看起來為人為\n",
    "reques=req.Request(PlaylistUrl,headers=\n",
    "{\n",
    "                \"User-Agent\":\"Mozilla/5.0 (Windows NT 6.1; Win64; x64) AppleWebKit/537.36 (KHTML, like Gecko) Chrome/84.0.4147.105 Safari/537.36\"\n",
    "})\n",
    "with req.urlopen(PlaylistUrl) as response:\n",
    "    data=response.read().decode(\"utf-8\")\n",
    "        #解析原始碼\n",
    "root =bs4.BeautifulSoup(data,\"lxml\")\n",
    "       #找到球員頁面\n",
    "find_Player = \"https://www.nba.com/\"+root.find(\"a\",title=\"Giannis Antetokounmpo\")[\"href\"]\n",
    "\n",
    "reques=req.Request(find_Player,headers=\n",
    "{\n",
    "                \"User-Agent\":\"Mozilla/5.0 (Windows NT 6.1; Win64; x64) AppleWebKit/537.36 (KHTML, like Gecko) Chrome/84.0.4147.105 Safari/537.36\"\n",
    "})\n",
    "\n",
    "with req.urlopen(find_Player) as response:\n",
    "    data=response.read().decode(\"utf-8\")\n",
    "\n",
    "root1 = bs4.BeautifulSoup(data,\"lxml\")\n",
    "find_playerdata = root1.find_all(\"p\",{\"class\":\"nba-player-vitals__top-info-metric\"})\n",
    "arr=[]\n",
    "#抓取球員 身高體重\n",
    "for playerdata in find_playerdata:\n",
    "    playerdata=playerdata.text.replace(\"/ \\n              \", \"\")\n",
    "    arr.append(playerdata)\n",
    "\n",
    "    #存取球員檔案至指定位置\n",
    "playdata = pd.DataFrame({\n",
    "    \"PlayName\":[\"Giannis Antetokounmpo\"],\n",
    "    \"Height\":[arr[0]],\n",
    "    \"Weight\":[arr[1]]\n",
    "})\n",
    "\n"
   ]
  },
  {
   "cell_type": "code",
   "execution_count": 18,
   "metadata": {},
   "outputs": [
    {
     "data": {
      "text/html": [
       "<div>\n",
       "<style scoped>\n",
       "    .dataframe tbody tr th:only-of-type {\n",
       "        vertical-align: middle;\n",
       "    }\n",
       "\n",
       "    .dataframe tbody tr th {\n",
       "        vertical-align: top;\n",
       "    }\n",
       "\n",
       "    .dataframe thead th {\n",
       "        text-align: right;\n",
       "    }\n",
       "</style>\n",
       "<table border=\"1\" class=\"dataframe\">\n",
       "  <thead>\n",
       "    <tr style=\"text-align: right;\">\n",
       "      <th></th>\n",
       "      <th>PlayName</th>\n",
       "      <th>Height</th>\n",
       "      <th>Weight</th>\n",
       "    </tr>\n",
       "  </thead>\n",
       "  <tbody>\n",
       "    <tr>\n",
       "      <th>0</th>\n",
       "      <td>Giannis Antetokounmpo</td>\n",
       "      <td>2.11m</td>\n",
       "      <td>109.8kg</td>\n",
       "    </tr>\n",
       "  </tbody>\n",
       "</table>\n",
       "</div>"
      ],
      "text/plain": [
       "                PlayName Height   Weight\n",
       "0  Giannis Antetokounmpo  2.11m  109.8kg"
      ]
     },
     "execution_count": 18,
     "metadata": {},
     "output_type": "execute_result"
    }
   ],
   "source": [
    "playdata"
   ]
  },
  {
   "cell_type": "code",
   "execution_count": null,
   "metadata": {},
   "outputs": [],
   "source": [
    "find_playerdata"
   ]
  }
 ],
 "metadata": {
  "kernelspec": {
   "display_name": "Python 3",
   "language": "python",
   "name": "python3"
  },
  "language_info": {
   "codemirror_mode": {
    "name": "ipython",
    "version": 3
   },
   "file_extension": ".py",
   "mimetype": "text/x-python",
   "name": "python",
   "nbconvert_exporter": "python",
   "pygments_lexer": "ipython3",
   "version": "3.8.3"
  }
 },
 "nbformat": 4,
 "nbformat_minor": 4
}
