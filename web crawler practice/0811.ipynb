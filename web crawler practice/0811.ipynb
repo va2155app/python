{
 "cells": [
  {
   "cell_type": "code",
   "execution_count": 24,
   "metadata": {},
   "outputs": [],
   "source": [
    "import urllib.request as req\n",
    "import bs4    as bs\n",
    "import pandas as pd\n",
    "from selenium import webdriver\n",
    "from selenium.webdriver.chrome.options import Options\n",
    "import time\n",
    "\n",
    "def find_playerdata(Name=\"\"):\n",
    "    #開啟chrome 並到NBA官網 並搜尋指定球員\n",
    "    options = Options()\n",
    "    options.add_argument(\"--disable-notifications\")\n",
    "\n",
    "    chrome = webdriver.Chrome('./chromedriver')\n",
    "    chrome.get(\"https://www.nba.com/players\")\n",
    "    time.sleep(3)\n",
    "\n",
    "        #接受cookies\n",
    "    to_accept_cookies = chrome.find_element_by_id(\"onetrust-accept-btn-handler\")\n",
    "    to_accept_cookies.click()\n",
    "\n",
    "        #模擬拉動頁面\n",
    "    for x in range(1, 2):\n",
    "        chrome.execute_script(\"window.scrollTo(0,document.body.scrollHeight)\")\n",
    "        time.sleep(2)\n",
    "\n",
    "        #取得想查詢的球員網址\n",
    "    root =bs.BeautifulSoup(chrome.page_source,\"lxml\")\n",
    "    goto_playerpage = root.find(\"a\",title =\" \"+Name+\" \")[\"href\"]\n",
    "\n",
    "        #開啟想查詢的球員頁面\n",
    "    chrome.get(\"https://www.nba.com\"+goto_playerpage)\n",
    "    time.sleep(2)\n",
    "\n",
    "    root   = bs.BeautifulSoup(chrome.page_source,\"lxml\")\n",
    "    find_playerdata = root.find_all(\"p\",{\"class\":\"nba-player-vitals__top-info-metric\"})\n",
    "    arr=[]\n",
    "\n",
    "        #抓取球員 身高體重\n",
    "    for playerdata in find_playerdata:\n",
    "        playerdata=playerdata.text.replace(\"/ \\n              \", \"\")\n",
    "        arr.append(playerdata)\n",
    "\n",
    "        #抓取球員當季數據\n",
    "    playerdatas =root.find_all(\"td\")\n",
    "    for playerdata in playerdatas[0:8]:\n",
    "        arr.append(playerdata.text)\n",
    "\n",
    "        #存取球員檔案至指定位置\n",
    "    playdata = pd.DataFrame({\n",
    "            \"PlayName\":[Name], \"Height\":[arr[0]], \"Weight\":[arr[1]],\n",
    "            \"MPG\"   :[arr[2]], \"FG%\"   :[arr[3]], \"3P%\"   :[arr[4]], \"FT%\"   :[arr[5]],\n",
    "            \"PPG\"   :[arr[6]], \"RPG\"   :[arr[7]], \"APG\"   :[arr[8]], \"BPG\"   :[arr[9]],\n",
    "    })\n",
    "    return playdata\n"
   ]
  },
  {
   "cell_type": "code",
   "execution_count": 26,
   "metadata": {},
   "outputs": [
    {
     "data": {
      "text/html": [
       "<div>\n",
       "<style scoped>\n",
       "    .dataframe tbody tr th:only-of-type {\n",
       "        vertical-align: middle;\n",
       "    }\n",
       "\n",
       "    .dataframe tbody tr th {\n",
       "        vertical-align: top;\n",
       "    }\n",
       "\n",
       "    .dataframe thead th {\n",
       "        text-align: right;\n",
       "    }\n",
       "</style>\n",
       "<table border=\"1\" class=\"dataframe\">\n",
       "  <thead>\n",
       "    <tr style=\"text-align: right;\">\n",
       "      <th></th>\n",
       "      <th>PlayName</th>\n",
       "      <th>Height</th>\n",
       "      <th>Weight</th>\n",
       "      <th>MPG</th>\n",
       "      <th>FG%</th>\n",
       "      <th>3P%</th>\n",
       "      <th>FT%</th>\n",
       "      <th>PPG</th>\n",
       "      <th>RPG</th>\n",
       "      <th>APG</th>\n",
       "      <th>BPG</th>\n",
       "    </tr>\n",
       "  </thead>\n",
       "  <tbody>\n",
       "    <tr>\n",
       "      <th>0</th>\n",
       "      <td>LeBron James</td>\n",
       "      <td>2.06m</td>\n",
       "      <td>113.4kg</td>\n",
       "      <td>34.9</td>\n",
       "      <td>49.4</td>\n",
       "      <td>34.8</td>\n",
       "      <td>69</td>\n",
       "      <td>25.5</td>\n",
       "      <td>7.9</td>\n",
       "      <td>10.3</td>\n",
       "      <td>0.6</td>\n",
       "    </tr>\n",
       "  </tbody>\n",
       "</table>\n",
       "</div>"
      ],
      "text/plain": [
       "       PlayName Height   Weight   MPG   FG%   3P% FT%   PPG  RPG   APG  BPG\n",
       "0  LeBron James  2.06m  113.4kg  34.9  49.4  34.8  69  25.5  7.9  10.3  0.6"
      ]
     },
     "execution_count": 26,
     "metadata": {},
     "output_type": "execute_result"
    }
   ],
   "source": [
    "find_playerdata(\"LeBron James\")"
   ]
  }
 ],
 "metadata": {
  "kernelspec": {
   "display_name": "Python 3",
   "language": "python",
   "name": "python3"
  },
  "language_info": {
   "codemirror_mode": {
    "name": "ipython",
    "version": 3
   },
   "file_extension": ".py",
   "mimetype": "text/x-python",
   "name": "python",
   "nbconvert_exporter": "python",
   "pygments_lexer": "ipython3",
   "version": "3.8.3"
  }
 },
 "nbformat": 4,
 "nbformat_minor": 4
}
