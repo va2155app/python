{
 "cells": [
  {
   "cell_type": "code",
   "execution_count": 1,
   "metadata": {},
   "outputs": [],
   "source": [
    "import numpy as np\n",
    "import glob as gb\n",
    "import cv2\n",
    "from matplotlib import pyplot as plt"
   ]
  },
  {
   "cell_type": "code",
   "execution_count": null,
   "metadata": {},
   "outputs": [],
   "source": [
    "# -*- coding: UTF-8 -*-\n",
    "img = cv2.imread('sudoku.jpg')\n",
    "gray = cv2.cvtColor(img,cv2.COLOR_BGR2GRAY)\n",
    "## 阈值分割\n",
    "ret,thresh = cv2.threshold(gray,200,255,1)\n",
    "\n",
    "## 对二值图像执行膨胀操作\n",
    "kernel = cv2.getStructuringElement(cv2.MORPH_CROSS,(5, 5))     \n",
    "dilated = cv2.dilate(thresh,kernel)\n",
    "\n",
    "## 轮廓提取，cv2.RETR_TREE表示建立层级结构\n",
    "contours, hierarchy = cv2.findContours(dilated,cv2.RETR_TREE,cv2.CHAIN_APPROX_SIMPLE)\n",
    "\n",
    "## 提取小方格，其父轮廓都为0号轮廓\n",
    "boxes = []\n",
    "for i in range(len(hierarchy[0])):\n",
    "    if hierarchy[0][i][3] == 0:\n",
    "        boxes.append(hierarchy[0][i])\n",
    "\n",
    "## 提取数字，其父轮廓都存在子轮廓        \n",
    "number_boxes = []\n",
    "for j in range(len(boxes)):\n",
    "    if boxes[j][2] != -1:\n",
    "        #number_boxes.append(boxes[j])\n",
    "        x,y,w,h = cv2.boundingRect(contours[boxes[j][2]]) ##矩形邊框（Bounding Rectangle）是說，用一個最小的矩形，把找到的形狀包起來。還有一個帶旋轉的矩形，面積會更小\n",
    "        number_boxes.append([x,y,w,h])\n",
    "        img = cv2.rectangle(img,(x,y),(x+w+1,y+h+1),(0,0,255),2)\n"
   ]
  },
  {
   "cell_type": "markdown",
   "metadata": {},
   "source": [
    "#  擷取圖片"
   ]
  },
  {
   "cell_type": "code",
   "execution_count": 34,
   "metadata": {},
   "outputs": [
    {
     "name": "stdout",
     "output_type": "stream",
     "text": [
      "numbers\\1.jpg\n",
      "numbers\\2.jpg\n",
      "numbers\\6.jpg\n",
      "numbers\\7.jpg\n"
     ]
    }
   ],
   "source": [
    "img_path = gb.glob(\"numbers\\\\*\") \n",
    "\n",
    "k = 0\n",
    "labels = []\n",
    "samples =  []\n",
    "\n",
    "##(一)提取數字  \n",
    "##1.遍歷文件夾下的原始數字圖片；\n",
    "##2.對每一張圖片進行輪廓提取操作，只提取外圍輪廓（參考上一節講解）；\n",
    "\n",
    "for path in img_path:\n",
    "    img  = cv2.imread(path)       \n",
    "    gray = cv2.cvtColor(img,cv2.COLOR_BGR2GRAY)\n",
    "    blur = cv2.GaussianBlur(gray,(5,5),0)\n",
    "    thresh = cv2.adaptiveThreshold(blur,255,1,1,11,2)    \n",
    "    contours, hierarchy =  cv2.findContours(thresh,cv2.RETR_EXTERNAL,cv2.CHAIN_APPROX_SIMPLE)\n",
    "    height,width = img.shape[:2]\n",
    "    w = width/5\n",
    "    rect_list = []\n",
    "    list1 = []\n",
    "    list2 = []\n",
    "    \n",
    "##3.求輪廓外包矩形，並根據矩形大小信息篩選出所有的數字輪廓；\n",
    "\n",
    "    for cnt in contours:\n",
    "        #if cv2.contourArea(cnt)>100:\n",
    "        [x,y,w,h] = cv2.boundingRect(cnt)\n",
    "\n",
    "        if w>30 and h > (height/4):   \n",
    "            if y < (height/2):\n",
    "                list1.append([x,y,w,h])\n",
    "##4.然後根據位置信息對數字框排序，顯然第一排依次是12345，第二排依次是67890；\n",
    "            else:\n",
    "                list2.append([x,y,w,h])\n",
    "            \n",
    "    ls1 = sorted(list1,key = lambda t : t[0])\n",
    "    ls2 = sorted(list2,key = lambda t : t[0])\n",
    "    \n",
    "\n",
    "    if len(ls1) == 5 and len(ls2) == 5: \n",
    "        \n",
    "    ##5.提取出每一個數字所在的矩形框，作為ROI取出。   \n",
    "        for i in range(5):\n",
    "            [x1,y1,w1,h1] = ls1[i] \n",
    "            [x2,y2,w2,h2] = ls2[i]                \n",
    "            number_roi1 = gray[y1:y1+h1, x1:x1+w1] #Cut the frame to size\n",
    "            number_roi2 = gray[y2:y2+h2, x2:x2+w2] #Cut the frame to size  \n",
    "        ##數據預處理\n",
    "            resized_roi1=cv2.resize(number_roi1,(20,40))\n",
    "            thresh1 = cv2.adaptiveThreshold(resized_roi1,255,1,1,11,2)\n",
    "\n",
    "            resized_roi2=cv2.resize(number_roi2,(20,40))\n",
    "            thresh2 = cv2.adaptiveThreshold(resized_roi2,255,1,1,11,2)\n",
    "\n",
    "        ##把二值圖像轉換為0-1二值圖像。\n",
    "        ##把處理完的數字圖片保存到對應數字的文件夾中。\n",
    "            number_path1 = \"test\\\\%s\\\\%d\" % (str(i+1),k) + '.jpg'\n",
    "            j = i+6\n",
    "            if j ==10:\n",
    "                j = 0\n",
    "\n",
    "            number_path2 = \"test\\\\%s\\\\%d\" % (str(j),k) + '.jpg'\n",
    "            k+=1\n",
    "\n",
    "            normalized_roi1 = thresh1/255.\n",
    "            normalized_roi2 = thresh2/255.\n",
    "            cv2.imwrite(number_path1,thresh1)\n",
    "            cv2.imwrite(number_path2,thresh2)\n",
    "    else:\n",
    "        print(path)"
   ]
  },
  {
   "cell_type": "code",
   "execution_count": 13,
   "metadata": {},
   "outputs": [
    {
     "data": {
      "text/plain": [
       "['numbers\\\\2.jpg']"
      ]
     },
     "execution_count": 13,
     "metadata": {},
     "output_type": "execute_result"
    }
   ],
   "source": [
    "img_path"
   ]
  },
  {
   "cell_type": "code",
   "execution_count": 30,
   "metadata": {},
   "outputs": [],
   "source": [
    "img = cv2.imread(\"numbers\\\\0.jpg\")\n",
    "gray = cv2.cvtColor(img,cv2.COLOR_BGR2GRAY)\n",
    "blur = cv2.GaussianBlur(gray,(5,5),0)\n",
    "thresh = cv2.adaptiveThreshold(blur,255,1,1,11,2)\n",
    "  \n",
    "contours, hierarchy =  cv2.findContours(thresh,cv2.RETR_EXTERNAL,cv2.CHAIN_APPROX_SIMPLE)\n",
    "cv2.drawContours(img,contours,-1,(80,120,30),3)  \n",
    "  \n",
    "cv2.imshow(\"img\", img)  \n",
    "cv2.waitKey(0) \n",
    "cv2.destroyAllWindows()"
   ]
  },
  {
   "cell_type": "code",
   "execution_count": 15,
   "metadata": {},
   "outputs": [],
   "source": [
    "\n",
    "\n",
    "cv2.namedWindow(\"img\", cv2.WINDOW_NORMAL); \n",
    "cv2.imshow(\"img\", img)\n",
    "cv2.waitKey(0) \n",
    "cv2.destroyAllWindows()"
   ]
  },
  {
   "cell_type": "markdown",
   "metadata": {},
   "source": [
    "# "
   ]
  }
 ],
 "metadata": {
  "kernelspec": {
   "display_name": "Python 3",
   "language": "python",
   "name": "python3"
  },
  "language_info": {
   "codemirror_mode": {
    "name": "ipython",
    "version": 3
   },
   "file_extension": ".py",
   "mimetype": "text/x-python",
   "name": "python",
   "nbconvert_exporter": "python",
   "pygments_lexer": "ipython3",
   "version": "3.8.3"
  }
 },
 "nbformat": 4,
 "nbformat_minor": 4
}
