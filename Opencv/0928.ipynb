{
 "cells": [
  {
   "cell_type": "code",
   "execution_count": 1,
   "metadata": {},
   "outputs": [],
   "source": [
    "import numpy as np\n",
    "import glob as gb\n",
    "import cv2\n",
    "from matplotlib import pyplot as plt"
   ]
  },
  {
   "cell_type": "code",
   "execution_count": 12,
   "metadata": {},
   "outputs": [],
   "source": [
    "# -*- coding: UTF-8 -*-\n",
    "img = cv2.imread('sudoku.jpg')\n",
    "gray = cv2.cvtColor(img,cv2.COLOR_BGR2GRAY)\n",
    "## 阈值分割\n",
    "ret,thresh = cv2.threshold(gray,200,255,1)\n",
    "\n",
    "## 对二值图像执行膨胀操作\n",
    "kernel = cv2.getStructuringElement(cv2.MORPH_CROSS,(5, 5))     \n",
    "dilated = cv2.dilate(thresh,kernel)\n",
    "\n",
    "## 轮廓提取，cv2.RETR_TREE表示建立层级结构\n",
    "contours, hierarchy = cv2.findContours(dilated,cv2.RETR_TREE,cv2.CHAIN_APPROX_SIMPLE)\n",
    "\n",
    "## 提取小方格，其父轮廓都为0号轮廓\n",
    "boxes = []\n",
    "for i in range(len(hierarchy[0])):\n",
    "    if hierarchy[0][i][3] == 0:\n",
    "        boxes.append(hierarchy[0][i])\n",
    "\n",
    "## 提取数字，其父轮廓都存在子轮廓        \n",
    "number_boxes = []\n",
    "for j in range(len(boxes)):\n",
    "    if boxes[j][2] != -1:\n",
    "        #number_boxes.append(boxes[j])\n",
    "        x,y,w,h = cv2.boundingRect(contours[boxes[j][2]]) ##矩形邊框（Bounding Rectangle）是說，用一個最小的矩形，把找到的形狀包起來。還有一個帶旋轉的矩形，面積會更小\n",
    "        number_boxes.append([x,y,w,h])\n",
    "        img = cv2.rectangle(img,(x,y),(x+w+1,y+h+1),(0,0,255),2)\n",
    "        "
   ]
  },
  {
   "cell_type": "code",
   "execution_count": 9,
   "metadata": {},
   "outputs": [
    {
     "ename": "NameError",
     "evalue": "name 'pls1' is not defined",
     "output_type": "error",
     "traceback": [
      "\u001b[1;31m---------------------------------------------------------------------------\u001b[0m",
      "\u001b[1;31mNameError\u001b[0m                                 Traceback (most recent call last)",
      "\u001b[1;32m<ipython-input-9-114d3a26aa38>\u001b[0m in \u001b[0;36m<module>\u001b[1;34m\u001b[0m\n\u001b[1;32m----> 1\u001b[1;33m \u001b[0mpls1\u001b[0m\u001b[1;33m\u001b[0m\u001b[1;33m\u001b[0m\u001b[0m\n\u001b[0m",
      "\u001b[1;31mNameError\u001b[0m: name 'pls1' is not defined"
     ]
    }
   ],
   "source": [
    "ls1\n"
   ]
  },
  {
   "cell_type": "code",
   "execution_count": 11,
   "metadata": {},
   "outputs": [
    {
     "ename": "NameError",
     "evalue": "name 'cnt' is not defined",
     "output_type": "error",
     "traceback": [
      "\u001b[1;31m---------------------------------------------------------------------------\u001b[0m",
      "\u001b[1;31mNameError\u001b[0m                                 Traceback (most recent call last)",
      "\u001b[1;32m<ipython-input-11-89ff4c596af5>\u001b[0m in \u001b[0;36m<module>\u001b[1;34m\u001b[0m\n\u001b[1;32m----> 1\u001b[1;33m \u001b[0mcnt\u001b[0m\u001b[1;33m\u001b[0m\u001b[1;33m\u001b[0m\u001b[0m\n\u001b[0m",
      "\u001b[1;31mNameError\u001b[0m: name 'cnt' is not defined"
     ]
    }
   ],
   "source": [
    "cnt"
   ]
  },
  {
   "cell_type": "code",
   "execution_count": null,
   "metadata": {},
   "outputs": [],
   "source": []
  }
 ],
 "metadata": {
  "kernelspec": {
   "display_name": "Python 3",
   "language": "python",
   "name": "python3"
  },
  "language_info": {
   "codemirror_mode": {
    "name": "ipython",
    "version": 3
   },
   "file_extension": ".py",
   "mimetype": "text/x-python",
   "name": "python",
   "nbconvert_exporter": "python",
   "pygments_lexer": "ipython3",
   "version": "3.8.3"
  }
 },
 "nbformat": 4,
 "nbformat_minor": 4
}
